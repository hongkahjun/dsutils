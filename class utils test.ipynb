{
 "cells": [
  {
   "cell_type": "code",
   "execution_count": null,
   "metadata": {},
   "outputs": [],
   "source": [
    "import numpy as np\n",
    "import pandas as pd\n",
    "from imblearn.ensemble import BalancedRandomForestClassifier, BalancedBaggingClassifier\n",
    "import seaborn as sns\n",
    "from matplotlib import pyplot as plt\n",
    "from sklearn.decomposition import PCA\n",
    "from sklearn.preprocessing import StandardScaler\n",
    "from sklearn.ensemble import RandomForestClassifier\n",
    "from sklearn.model_selection import GridSearchCV, train_test_split\n",
    "from sklearn.linear_model import LogisticRegression\n",
    "from sklearn.pipeline import Pipeline\n",
    "from sklearn.inspection import plot_partial_dependence\n",
    "from sklearn.svm import SVC\n",
    "from sklearn.metrics import precision_recall_fscore_support"
   ]
  },
  {
   "cell_type": "code",
   "execution_count": null,
   "metadata": {},
   "outputs": [],
   "source": [
    "def import_csv(file):\n",
    "    df = pd.read_csv(file)\n",
    "    print(df.head())\n",
    "    print(df.shape)\n",
    "    print(\"\")\n",
    "    print(\"Percentage of nans:\")\n",
    "    print(df.isna().mean().round(4) * 100)\n",
    "    return df"
   ]
  },
  {
   "cell_type": "code",
   "execution_count": null,
   "metadata": {},
   "outputs": [],
   "source": [
    "def pca_elbow_plot(x):\n",
    "    scaler = StandardScaler()\n",
    "    x_scaled = scaler.fit_transform(x)\n",
    "    pca = PCA()\n",
    "    pca.fit(x_scaled)\n",
    "    plt.figure()\n",
    "    plt.plot(np.cumsum(pca.explained_variance_ratio_))\n",
    "    plt.xlabel('Number of Components')\n",
    "    plt.ylabel('Variance (%)')  # for each component\n",
    "    plt.title('Explained Variance')\n",
    "    plt.show()\n",
    "    return pca"
   ]
  },
  {
   "cell_type": "code",
   "execution_count": null,
   "metadata": {},
   "outputs": [],
   "source": [
    "def pca_biplot(score, coeff, y, labels=None):\n",
    "    xs = score[:, 0]\n",
    "    ys = score[:, 1]\n",
    "    n = coeff.shape[0]\n",
    "    scalex = 1.0 / (xs.max() - xs.min())\n",
    "    scaley = 1.0 / (ys.max() - ys.min())\n",
    "    plt.scatter(xs * scalex, ys * scaley, c=y)\n",
    "    for i in range(n):\n",
    "        plt.arrow(0, 0, coeff[i, 0], coeff[i, 1], color='r', alpha=0.5)\n",
    "        if labels is None:\n",
    "            plt.text(coeff[i, 0] * 1.15, coeff[i, 1] * 1.15, \"Var\" + str(i + 1), color='g', ha='center', va='center')\n",
    "        else:\n",
    "            plt.text(coeff[i, 0] * 1.15, coeff[i, 1] * 1.15, labels[i], color='g', ha='center', va='center')\n",
    "    plt.xlim(-1, 1)\n",
    "    plt.ylim(-1, 1)\n",
    "    plt.xlabel(\"PC{}\".format(1))\n",
    "    plt.ylabel(\"PC{}\".format(2))\n",
    "    plt.grid()\n",
    "    plt.show()"
   ]
  },
  {
   "cell_type": "code",
   "execution_count": null,
   "metadata": {},
   "outputs": [],
   "source": [
    "def check_class_imba(y):\n",
    "    plt.hist(y)\n",
    "    plt.show()"
   ]
  },
  {
   "cell_type": "code",
   "execution_count": null,
   "metadata": {},
   "outputs": [],
   "source": [
    "def rf_feature_ranking(x, y, labels=None, imbalanced=False):\n",
    "    parameters = {\n",
    "        'n_estimators': [10],\n",
    "        'max_depth': [1, 7],\n",
    "        'max_features': [0.8, None]\n",
    "    }\n",
    "    if imbalanced:\n",
    "        rf = BalancedRandomForestClassifier(criterion='entropy', replacement=True)\n",
    "    else:\n",
    "        rf = RandomForestClassifier(criterion='entropy')\n",
    "    rf_cv = GridSearchCV(rf, parameters, cv=5, iid=False, return_train_score=True, refit=True)\n",
    "    rf_cv.fit(x, y)\n",
    "    best_rf = rf_cv.best_estimator_\n",
    "    if labels is None:\n",
    "        labels = np.arange(x.shape[0])\n",
    "    order = np.arange(x.shape[0])\n",
    "    ranked_features = [n for _, n, _ in sorted(zip(best_rf.feature_importances_, labels, order), reverse=True)]\n",
    "    ordered_indices = [n for _, _, n in sorted(zip(best_rf.feature_importances_, labels, order), reverse=True)]\n",
    "    return ranked_features, ordered_indices, best_rf"
   ]
  },
  {
   "cell_type": "code",
   "execution_count": null,
   "metadata": {},
   "outputs": [],
   "source": [
    "def pdp(est, x, feature, feature_names, no, target):\n",
    "    plot_partial_dependence(est, x, feature[:no], feature_names, target=target)\n",
    "    fig = plt.gcf()\n",
    "    fig.suptitle('Partial dependence')\n",
    "    plt.subplots_adjust(top=0.9)\n",
    "    plt.show()"
   ]
  },
  {
   "cell_type": "code",
   "execution_count": null,
   "metadata": {},
   "outputs": [],
   "source": [
    "def pca_lr(x, y, imbalanced=False):\n",
    "    lr = LogisticRegression(solver='lbfgs', multi_class='auto')\n",
    "    pca = PCA()\n",
    "    if imbalanced:\n",
    "        pca_lr_parameters = {\n",
    "            'bagged_lr__n_estimators': [10],\n",
    "            'pca__n_components': [0.8],\n",
    "            'bagged_lr__base_estimator__C': [2 ** -7, 2 ** 7]\n",
    "        }\n",
    "        bagged_lr = BalancedBaggingClassifier(base_estimator=lr, replacement=True)\n",
    "        pca_lr_pipeline = Pipeline([('scale', StandardScaler()), ('pca', pca), ('bagged_lr', bagged_lr)])\n",
    "    else:\n",
    "        pca_lr_parameters = {\n",
    "            'pca__n_components': [0.8],\n",
    "            'lr__C': [2 ** -7, 2 ** 7]\n",
    "        }\n",
    "        pca_lr_pipeline = Pipeline([('scale', StandardScaler()), ('pca', pca), ('lr', lr)])\n",
    "    pca_lr_cv = GridSearchCV(pca_lr_pipeline, pca_lr_parameters, cv=5, iid=True, return_train_score=True)\n",
    "    pca_lr_cv.fit(x, y)\n",
    "    cv_results_df = pd.DataFrame(pca_lr_cv.cv_results_).sort_values(by='mean_test_score', ascending=False)\n",
    "    return pca_lr_cv, cv_results_df"
   ]
  },
  {
   "cell_type": "code",
   "execution_count": null,
   "metadata": {},
   "outputs": [],
   "source": [
    "def pca_rf(x, y, imbalanced=False):\n",
    "    parameters = {\n",
    "        'pca__n_components': [None, 0.8],\n",
    "        'rf__n_estimators': [10],\n",
    "        'rf__max_depth': [1, 7],\n",
    "        'rf__max_features': [None]\n",
    "    }\n",
    "    pca = PCA()\n",
    "    if imbalanced:\n",
    "        rf = BalancedRandomForestClassifier(criterion='entropy', replacement=True)\n",
    "    else:\n",
    "        rf = RandomForestClassifier(criterion='entropy')\n",
    "    pca_rf_pipeline = Pipeline([('scale', StandardScaler()), ('pca', pca), ('rf', rf)])\n",
    "    rf_cv = GridSearchCV(pca_rf_pipeline, parameters, cv=5, iid=False, return_train_score=True, refit=True)\n",
    "    rf_cv.fit(x, y)\n",
    "    cv_results_df = pd.DataFrame(rf_cv.cv_results_).sort_values(by='mean_test_score', ascending=False)\n",
    "    return rf_cv, cv_results_df"
   ]
  },
  {
   "cell_type": "code",
   "execution_count": null,
   "metadata": {},
   "outputs": [],
   "source": [
    "def pca_rbf_svm(x, y, imbalanced=False):\n",
    "    svm = SVC()\n",
    "    pca = PCA()\n",
    "    if imbalanced:\n",
    "        pca_svm_parameters = {\n",
    "            'bagged_svm__n_estimators': [10],\n",
    "            'pca__n_components': [0.8],\n",
    "            'bagged_svm__base_estimator__C': [2 ** -7, 2 ** 7],\n",
    "            'bagged_svm__base_estimator__gamma': [ 2 ** 7]\n",
    "        }\n",
    "        bagged_svm = BalancedBaggingClassifier(base_estimator=svm, replacement=True)\n",
    "        pca_svm_pipeline = Pipeline([('scale', StandardScaler()), ('pca', pca), ('bagged_svm', bagged_svm)])\n",
    "    else:\n",
    "        pca_svm_parameters = {\n",
    "            'pca__n_components': [0.8],\n",
    "            'svm__C': [2 ** -7, 2 ** 7],\n",
    "            'svm__gamma': [2 ** -7, 2 ** 7]\n",
    "        }\n",
    "        pca_svm_pipeline = Pipeline([('scale', StandardScaler()), ('pca', pca), ('svm', svm)])\n",
    "    pca_svm_cv = GridSearchCV(pca_svm_pipeline, pca_svm_parameters, cv=5, iid=True, return_train_score=True)\n",
    "    pca_svm_cv.fit(x, y)\n",
    "    cv_results_df = pd.DataFrame(pca_svm_cv.cv_results_).sort_values(by='mean_test_score', ascending=False)\n",
    "    return pca_svm_cv, cv_results_df"
   ]
  },
  {
   "cell_type": "code",
   "execution_count": null,
   "metadata": {},
   "outputs": [],
   "source": [
    "def cal_test_results(_x_train, _x_test, _y_train, _y_test, imbalanced=False):\n",
    "    pca_lr_grcv, pca_lr_results = pca_lr(_x_train, _y_train, imbalanced=imbalanced)\n",
    "    pca_rbf_svm_grcv, pca_rbf_svm_results = pca_rbf_svm(_x_train, _y_train, imbalanced=imbalanced)\n",
    "    pca_rf_grcv, pca_rf_results = pca_rf(_x_train, _y_train, imbalanced=imbalanced)\n",
    "    result_index = ['LR', 'RBF-SVM', 'RF']\n",
    "    result_column = ['Precision', 'Recall', 'F1']\n",
    "    test_results = np.zeros((3, 3))\n",
    "    test_results[0, :] = precision_recall_fscore_support(_y_test, pca_lr_grcv.predict(_x_test), average='weighted')[:3]\n",
    "    test_results[1, :] = precision_recall_fscore_support(_y_test, pca_rbf_svm_grcv.predict(_x_test), average='weighted')[:3]\n",
    "    test_results[2, :] = precision_recall_fscore_support(_y_test, pca_rf_grcv.predict(_x_test), average='weighted')[:3]\n",
    "    results_df = pd.DataFrame(test_results, result_index, result_column)\n",
    "    return [pca_lr_results, pca_rbf_svm_results, pca_rf_results], results_df"
   ]
  },
  {
   "cell_type": "code",
   "execution_count": null,
   "metadata": {},
   "outputs": [],
   "source": [
    "np.random.seed(42)\n",
    "csv_file = 'cancer_df.csv'\n",
    "dataset = import_csv(csv_file)"
   ]
  },
  {
   "cell_type": "code",
   "execution_count": null,
   "metadata": {},
   "outputs": [],
   "source": [
    "dataset.loc[[1, 2, 3, 4]] = dataset.loc[[1, 2, 3, 4]].replace(0, np.nan)"
   ]
  },
  {
   "cell_type": "code",
   "execution_count": null,
   "metadata": {},
   "outputs": [],
   "source": [
    "dataset[dataset < 0] = np.nan"
   ]
  },
  {
   "cell_type": "code",
   "execution_count": null,
   "metadata": {},
   "outputs": [],
   "source": [
    "dataset_values = dataset.values\n",
    "x_all = dataset_values[:, :-1]\n",
    "y_all = dataset_values[:, -1]\n",
    "features = list(dataset)[:-1]"
   ]
  },
  {
   "cell_type": "code",
   "execution_count": null,
   "metadata": {},
   "outputs": [],
   "source": [
    "pca_model = pca_elbow_plot(x_all)"
   ]
  },
  {
   "cell_type": "code",
   "execution_count": null,
   "metadata": {},
   "outputs": [],
   "source": [
    "x_scaled = StandardScaler().fit_transform(x_all)\n",
    "x_all_pca = pca_model.transform(x_scaled)"
   ]
  },
  {
   "cell_type": "code",
   "execution_count": null,
   "metadata": {},
   "outputs": [],
   "source": [
    "pca_biplot(x_all_pca[:, 0:2], np.transpose(pca_model.components_[0:2, :]), y_all, labels=features)"
   ]
  },
  {
   "cell_type": "code",
   "execution_count": null,
   "metadata": {},
   "outputs": [],
   "source": [
    "check_class_imba(y_all)\n",
    "IMBALANCED = True"
   ]
  },
  {
   "cell_type": "code",
   "execution_count": null,
   "metadata": {},
   "outputs": [],
   "source": [
    "feature_ranked, indices_ranked, ranked_model = rf_feature_ranking(x_all, y_all, features, imbalanced=True)"
   ]
  },
  {
   "cell_type": "code",
   "execution_count": null,
   "metadata": {},
   "outputs": [],
   "source": [
    "feature_ranked"
   ]
  },
  {
   "cell_type": "code",
   "execution_count": null,
   "metadata": {},
   "outputs": [],
   "source": [
    "pdp(ranked_model, x_all, indices_ranked, feature_ranked, 4, target=1)"
   ]
  },
  {
   "cell_type": "code",
   "execution_count": null,
   "metadata": {},
   "outputs": [],
   "source": [
    "x_train, x_test, y_train, y_test = train_test_split(x_all, y_all, test_size=0.2)"
   ]
  },
  {
   "cell_type": "code",
   "execution_count": null,
   "metadata": {},
   "outputs": [],
   "source": [
    "cv_result_list, test_results_df = cal_test_results(x_train, x_test, y_train, y_test, IMBALANCED)"
   ]
  },
  {
   "cell_type": "code",
   "execution_count": null,
   "metadata": {},
   "outputs": [],
   "source": [
    "print(test_results_df)"
   ]
  },
  {
   "cell_type": "code",
   "execution_count": null,
   "metadata": {},
   "outputs": [],
   "source": []
  }
 ],
 "metadata": {
  "kernelspec": {
   "display_name": "Python 3",
   "language": "python",
   "name": "python3"
  },
  "language_info": {
   "codemirror_mode": {
    "name": "ipython",
    "version": 3
   },
   "file_extension": ".py",
   "mimetype": "text/x-python",
   "name": "python",
   "nbconvert_exporter": "python",
   "pygments_lexer": "ipython3",
   "version": "3.7.3"
  }
 },
 "nbformat": 4,
 "nbformat_minor": 2
}
